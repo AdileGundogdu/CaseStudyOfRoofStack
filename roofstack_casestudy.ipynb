{
 "cells": [
  {
   "cell_type": "code",
   "execution_count": 1,
   "id": "7b4475b4",
   "metadata": {},
   "outputs": [],
   "source": [
    "import firebase_admin\n",
    "from firebase_admin import credentials, firestore\n",
    "import datetime\n",
    "import random\n",
    "from faker import Faker"
   ]
  },
  {
   "cell_type": "code",
   "execution_count": 2,
   "id": "94e6e71d",
   "metadata": {},
   "outputs": [
    {
     "data": {
      "text/plain": [
       "<firebase_admin.App at 0x23640713730>"
      ]
     },
     "execution_count": 2,
     "metadata": {},
     "output_type": "execute_result"
    }
   ],
   "source": [
    "fake = Faker()\n",
    "cred = credentials.Certificate(\"C:/Users/adile/Downloads/case-study-roofstack-firebase-adminsdk-p7np2-fe6802d94a.json\")\n",
    "firebase_admin.initialize_app(cred)"
   ]
  },
  {
   "cell_type": "code",
   "execution_count": 3,
   "id": "bc466f92",
   "metadata": {},
   "outputs": [],
   "source": [
    "db = firestore.client()"
   ]
  },
  {
   "cell_type": "code",
   "execution_count": 20,
   "id": "ff464711",
   "metadata": {},
   "outputs": [],
   "source": [
    "def create_collections(num_users, item_list):\n",
    "    for _ in range(num_users):\n",
    "        # Generate random user data\n",
    "        user_data = {\n",
    "            \"username\": fake.user_name(),\n",
    "            \"email\": fake.email(),\n",
    "            \"createdAt\": fake.date_time_this_year(),\n",
    "            \"modifiedAt\": fake.date_time_this_year(),\n",
    "        }\n",
    "\n",
    "        # Add user to \"user\" collection\n",
    "        #user_ref = db.collection(\"user\").document()\n",
    "        #user_id = user_ref.id\n",
    "        user_data[\"createdAt\"] = user_data[\"createdAt\"]\n",
    "        user_data[\"modifiedAt\"] = user_data[\"modifiedAt\"]\n",
    "        #user_ref.set(user_data)\n",
    "        _, user_ref = db.collection('user').add(user_data)\n",
    "        user_id = user_ref.id\n",
    "        \n",
    "        \n",
    "        num_of_items = random.randint(0,len(item_list))\n",
    "        item_list_select = random.choices(item_list,k=num_of_items)\n",
    "\n",
    "        # Create random items for this user\n",
    "        for i in range(num_of_items):\n",
    "            item_data = {\n",
    "                \"itemName\": item_list_select[i],\n",
    "                \"userId\": user_id,\n",
    "                \"createdAt\": fake.date_time_this_year(),\n",
    "                \"modifiedAt\": fake.date_time_this_year()\n",
    "            }\n",
    "            #db.collection(\"user\").add(user_id).collection(\"items\").add(item_data)\n",
    "            db.collection(\"items\").add(item_data)"
   ]
  },
  {
   "cell_type": "code",
   "execution_count": 21,
   "id": "265510bf",
   "metadata": {},
   "outputs": [],
   "source": [
    "# Run the function to create random users and items\n",
    "\n",
    "item_list = ['mouse', 'laptop', 'chair', 'pen', 'clock', 'table', 'notebook', 'pencil']\n",
    "create_collections(10, item_list)"
   ]
  },
  {
   "cell_type": "code",
   "execution_count": null,
   "id": "50518009",
   "metadata": {},
   "outputs": [],
   "source": []
  }
 ],
 "metadata": {
  "kernelspec": {
   "display_name": "Python 3 (ipykernel)",
   "language": "python",
   "name": "python3"
  },
  "language_info": {
   "codemirror_mode": {
    "name": "ipython",
    "version": 3
   },
   "file_extension": ".py",
   "mimetype": "text/x-python",
   "name": "python",
   "nbconvert_exporter": "python",
   "pygments_lexer": "ipython3",
   "version": "3.9.12"
  }
 },
 "nbformat": 4,
 "nbformat_minor": 5
}
